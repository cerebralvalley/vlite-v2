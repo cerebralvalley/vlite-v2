{
 "cells": [
  {
   "cell_type": "code",
   "execution_count": 3,
   "metadata": {},
   "outputs": [],
   "source": [
    "import numpy as np\n",
    "from usearch.index import Index, Matches"
   ]
  },
  {
   "cell_type": "code",
   "execution_count": 13,
   "metadata": {},
   "outputs": [],
   "source": [
    "index = Index(\n",
    "    ndim=3, # Define the number of dimensions in input vectors\n",
    "    metric='cos', # Choose 'l2sq', 'haversine' or other metric, default = 'ip'\n",
    ")\n",
    "index.reset()"
   ]
  },
  {
   "cell_type": "code",
   "execution_count": 17,
   "metadata": {},
   "outputs": [
    {
     "name": "stderr",
     "output_type": "stream",
     "text": [
      "Search: 100%|██████████| 1/1 [00:00<00:00, 14463.12vector/s]\n"
     ]
    },
    {
     "ename": "ValueError",
     "evalue": "not enough values to unpack (expected 2, got 1)",
     "output_type": "error",
     "traceback": [
      "\u001b[0;31m---------------------------------------------------------------------------\u001b[0m",
      "\u001b[0;31mValueError\u001b[0m                                Traceback (most recent call last)",
      "Cell \u001b[0;32mIn[17], line 8\u001b[0m\n\u001b[1;32m      5\u001b[0m index\u001b[38;5;241m.\u001b[39madd(\u001b[38;5;241m2\u001b[39m, v2)\n\u001b[1;32m      6\u001b[0m matches: Matches \u001b[38;5;241m=\u001b[39m index\u001b[38;5;241m.\u001b[39msearch(v1, count\u001b[38;5;241m=\u001b[39m\u001b[38;5;241m10\u001b[39m, log\u001b[38;5;241m=\u001b[39m\u001b[38;5;28;01mTrue\u001b[39;00m)\n\u001b[0;32m----> 8\u001b[0m \u001b[38;5;28;01mfor\u001b[39;00m idx, dist \u001b[38;5;129;01min\u001b[39;00m \u001b[38;5;28mzip\u001b[39m(matches\u001b[38;5;241m.\u001b[39mto_list()):\n\u001b[1;32m      9\u001b[0m     \u001b[38;5;28mprint\u001b[39m(idx)\n\u001b[1;32m     10\u001b[0m     \u001b[38;5;28mprint\u001b[39m(dist)\n",
      "\u001b[0;31mValueError\u001b[0m: not enough values to unpack (expected 2, got 1)"
     ]
    }
   ],
   "source": [
    "index.reset()\n",
    "v1 = np.array([0.2, 0.6, 0.4])\n",
    "v2 = np.array([0.1, 0.2, 0.9])\n",
    "index.add(1, v1)\n",
    "index.add(2, v2)\n",
    "matches: Matches = index.search(v1, count=10, log=True)\n",
    "\n",
    "for match in matches.to_list():\n",
    "    print(idx)\n",
    "    print(dist)\n",
    "    print(index.get(1))"
   ]
  },
  {
   "cell_type": "code",
   "execution_count": null,
   "metadata": {},
   "outputs": [],
   "source": []
  }
 ],
 "metadata": {
  "kernelspec": {
   "display_name": "venv",
   "language": "python",
   "name": "python3"
  },
  "language_info": {
   "codemirror_mode": {
    "name": "ipython",
    "version": 3
   },
   "file_extension": ".py",
   "mimetype": "text/x-python",
   "name": "python",
   "nbconvert_exporter": "python",
   "pygments_lexer": "ipython3",
   "version": "3.9.6"
  }
 },
 "nbformat": 4,
 "nbformat_minor": 2
}
