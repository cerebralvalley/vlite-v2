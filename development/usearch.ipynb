{
 "cells": [
  {
   "cell_type": "code",
   "execution_count": 1,
   "metadata": {},
   "outputs": [],
   "source": [
    "import numpy as np\n",
    "from usearch.index import Index, Matches"
   ]
  },
  {
   "cell_type": "code",
   "execution_count": 2,
   "metadata": {},
   "outputs": [],
   "source": [
    "index = Index(\n",
    "    ndim=3, # Define the number of dimensions in input vectors\n",
    "    metric='cos', # Choose 'l2sq', 'haversine' or other metric, default = 'ip'\n",
    ")\n",
    "index.reset()"
   ]
  },
  {
   "cell_type": "code",
   "execution_count": 6,
   "metadata": {},
   "outputs": [
    {
     "name": "stderr",
     "output_type": "stream",
     "text": [
      "Search: 100%|██████████| 1/1 [00:00<00:00, 11748.75vector/s]"
     ]
    },
    {
     "name": "stdout",
     "output_type": "stream",
     "text": [
      "distance: 0.0\n",
      "\n",
      "distance: 0.0\n",
      "\n",
      "distance: 0.02768343687057495\n",
      "\n"
     ]
    },
    {
     "name": "stderr",
     "output_type": "stream",
     "text": [
      "\n"
     ]
    }
   ],
   "source": [
    "index.reset()  # must reset this since using jupyter notebook RAM environment\n",
    "v1 = np.array([0.2, 0.6, 0.4])\n",
    "v2 = np.array([0.1, 0.2, 0.9])\n",
    "v3 = np.array([0.2, 0.6, 0.4])\n",
    "v4 = np.array([0.3, 0.2, 0.9])\n",
    "v5 = np.array([0.4, 0.6, 0.4])\n",
    "v6 = np.array([0.5, 0.2, 0.9])\n",
    "v7 = np.array([0.6, 0.6, 0.4])\n",
    "v8 = np.array([0.7, 0.2, 0.9])\n",
    "index.add(1, v1)\n",
    "index.add(2, v2)\n",
    "index.add(3, v3)\n",
    "index.add(4, v4)\n",
    "index.add(5, v5)\n",
    "index.add(6, v6)\n",
    "index.add(7, v7)\n",
    "index.add(8, v8)\n",
    "matches: Matches = index.search(v1, count=3, log=True)\n",
    "\n",
    "for match in matches.to_list():\n",
    "    # print(f\"index: {match[0]}\")\n",
    "    print(f\"distance: {match[1]}\")\n",
    "    # print(index.get(match[0]))\n",
    "    print()"
   ]
  },
  {
   "cell_type": "code",
   "execution_count": 4,
   "metadata": {},
   "outputs": [],
   "source": [
    "index.save('test.index')"
   ]
  },
  {
   "cell_type": "code",
   "execution_count": 5,
   "metadata": {},
   "outputs": [
    {
     "name": "stderr",
     "output_type": "stream",
     "text": [
      "Search: 100%|██████████| 1/1 [00:00<00:00, 16980.99vector/s]"
     ]
    },
    {
     "name": "stdout",
     "output_type": "stream",
     "text": [
      "index: 3\n",
      "distance: 0.0\n",
      "[0.2 0.6 0.4]\n",
      "\n"
     ]
    },
    {
     "name": "stderr",
     "output_type": "stream",
     "text": [
      "\n"
     ]
    }
   ],
   "source": [
    "index.load('test.index')\n",
    "\n",
    "v1 = np.array([0.2, 0.6, 0.4])\n",
    "matches: Matches = index.search(v1, count=1, log=True)\n",
    "\n",
    "for match in matches.to_list():\n",
    "    print(f\"index: {match[0]}\")\n",
    "    print(f\"distance: {match[1]}\")\n",
    "    print(index.get(match[0]))\n",
    "    print()"
   ]
  }
 ],
 "metadata": {
  "kernelspec": {
   "display_name": "venv",
   "language": "python",
   "name": "python3"
  },
  "language_info": {
   "codemirror_mode": {
    "name": "ipython",
    "version": 3
   },
   "file_extension": ".py",
   "mimetype": "text/x-python",
   "name": "python",
   "nbconvert_exporter": "python",
   "pygments_lexer": "ipython3",
   "version": "3.9.6"
  }
 },
 "nbformat": 4,
 "nbformat_minor": 2
}
